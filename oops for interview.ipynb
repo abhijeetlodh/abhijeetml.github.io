{
 "cells": [
  {
   "cell_type": "markdown",
   "metadata": {},
   "source": [
    "* classes and object\n",
    "* Self => represting the current object, always first param in all classes\n",
    "* Constructor => def _ _ init _ _(self, parameters):\n",
    "* Method => Functions inside classes without the mandatory requirement to return a value\n",
    "* Decorators => calling a function as argument\n",
    "* Getters and setters => reading a value and setting a value"
   ]
  },
  {
   "cell_type": "code",
   "execution_count": 2,
   "metadata": {},
   "outputs": [],
   "source": [
    "class Person:\n",
    "    def __init__(self, name, occupation):\n",
    "        self.name = name\n",
    "        self.occupation = occupation\n",
    "        print('{} is a {}'.format(self.name, self.occupation))\n",
    "    \n",
    "    def info(self):\n",
    "        print('{} => {}'.format(self.name, self.occupation))\n"
   ]
  },
  {
   "cell_type": "code",
   "execution_count": 3,
   "metadata": {},
   "outputs": [
    {
     "name": "stdout",
     "output_type": "stream",
     "text": [
      "Shubham is a Accountant\n",
      "Shubham Accountant\n",
      "geetika is a IAS\n",
      "Tamnnah is a MLA\n",
      "geetika IAS\n",
      "Shubham => Accountant\n",
      "geetika => IAS\n",
      "Tamnnah => MLA\n"
     ]
    }
   ],
   "source": [
    "a = Person('Shubham', 'Accountant')\n",
    "# a.name = 'Shubham'\n",
    "# a.occupation = 'Accountant'\n",
    "print(a.name, a.occupation)\n",
    "b = Person('geetika', 'IAS')\n",
    "c = Person('Tamnnah', 'MLA')\n",
    "# b.name = 'geetika'\n",
    "# b.occupation = 'IAS'\n",
    "print(b.name, b.occupation)\n",
    "a.info()\n",
    "b.info()\n",
    "c.info()"
   ]
  },
  {
   "cell_type": "code",
   "execution_count": 4,
   "metadata": {},
   "outputs": [
    {
     "name": "stdout",
     "output_type": "stream",
     "text": [
      "Hie\n",
      "Decorators\n",
      "Tiger\n",
      "Hie\n",
      "5\n",
      "Tiger\n"
     ]
    }
   ],
   "source": [
    "def func(fx):\n",
    "    def solve(*args, **kwargs):\n",
    "        print('Hie')\n",
    "        fx(*args, **kwargs)\n",
    "        print('Tiger')\n",
    "    return solve\n",
    "@func\n",
    "def hello():\n",
    "    print(\"Decorators\")\n",
    "@func\n",
    "def add(a, b):\n",
    "    print(a+b)\n",
    "\n",
    "hello()\n",
    "add(2,3)"
   ]
  }
 ],
 "metadata": {
  "kernelspec": {
   "display_name": "Python 3",
   "language": "python",
   "name": "python3"
  },
  "language_info": {
   "codemirror_mode": {
    "name": "ipython",
    "version": 3
   },
   "file_extension": ".py",
   "mimetype": "text/x-python",
   "name": "python",
   "nbconvert_exporter": "python",
   "pygments_lexer": "ipython3",
   "version": "3.12.1"
  }
 },
 "nbformat": 4,
 "nbformat_minor": 2
}
